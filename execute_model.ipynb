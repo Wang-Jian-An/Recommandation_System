{
 "cells": [
  {
   "cell_type": "code",
   "execution_count": 14,
   "metadata": {},
   "outputs": [],
   "source": [
    "import numpy as np\n",
    "import pandas as pd\n",
    "import matplotlib.pyplot as plt\n",
    "%matplotlib inline\n",
    "\n",
    "import warnings\n",
    "warnings.filterwarnings(\"ignore\")\n",
    "\n",
    "from datetime import datetime\n",
    "from sklearn.model_selection import train_test_split\n",
    "from tqdm import tqdm\n",
    "\n",
    "from User_based_CF import *\n",
    "from Item_based_CF import *\n",
    "\n",
    "import torch\n",
    "import torch.nn as nn"
   ]
  },
  {
   "cell_type": "code",
   "execution_count": 2,
   "metadata": {},
   "outputs": [],
   "source": [
    "# Create a user-item matrix\n",
    "def create_user_item_matrix(data):\n",
    "    \"\"\"\n",
    "    data: (user, item, rating, timestamp)\n",
    "    \"\"\"\n",
    "    user_list = rating_data[\"User_id\"].values\n",
    "    item_list = rating_data[\"Item_id\"].values\n",
    "    rating_list = rating_data[\"Rating\"].values\n",
    "    user_item_matrix_data = pd.crosstab(index=user_list, columns=item_list, values=rating_list, aggfunc=np.mean,\\\n",
    "        rownames=[\"User_id\"], colnames=[\"Item_id\"])\n",
    "    return user_item_matrix_data"
   ]
  },
  {
   "cell_type": "code",
   "execution_count": 3,
   "metadata": {},
   "outputs": [],
   "source": [
    "# Identify whether the value exists or not.\n",
    "def identify_value_exist(user_item_matrix_data):\n",
    "    \"\"\"\n",
    "    user_item_matrix_data: DataFrame\n",
    "    \"\"\"\n",
    "    return (user_item_matrix_data.isna() == False).astype(\"int\")"
   ]
  },
  {
   "cell_type": "code",
   "execution_count": 4,
   "metadata": {},
   "outputs": [
    {
     "data": {
      "text/html": [
       "<div>\n",
       "<style scoped>\n",
       "    .dataframe tbody tr th:only-of-type {\n",
       "        vertical-align: middle;\n",
       "    }\n",
       "\n",
       "    .dataframe tbody tr th {\n",
       "        vertical-align: top;\n",
       "    }\n",
       "\n",
       "    .dataframe thead th {\n",
       "        text-align: right;\n",
       "    }\n",
       "</style>\n",
       "<table border=\"1\" class=\"dataframe\">\n",
       "  <thead>\n",
       "    <tr style=\"text-align: right;\">\n",
       "      <th></th>\n",
       "      <th>User_id</th>\n",
       "      <th>Item_id</th>\n",
       "      <th>Rating</th>\n",
       "      <th>timestamp</th>\n",
       "    </tr>\n",
       "  </thead>\n",
       "  <tbody>\n",
       "    <tr>\n",
       "      <th>0</th>\n",
       "      <td>196</td>\n",
       "      <td>242</td>\n",
       "      <td>3</td>\n",
       "      <td>1997-12-04 15:55:49</td>\n",
       "    </tr>\n",
       "    <tr>\n",
       "      <th>1</th>\n",
       "      <td>186</td>\n",
       "      <td>302</td>\n",
       "      <td>3</td>\n",
       "      <td>1998-04-04 19:22:22</td>\n",
       "    </tr>\n",
       "    <tr>\n",
       "      <th>2</th>\n",
       "      <td>22</td>\n",
       "      <td>377</td>\n",
       "      <td>1</td>\n",
       "      <td>1997-11-07 07:18:36</td>\n",
       "    </tr>\n",
       "    <tr>\n",
       "      <th>3</th>\n",
       "      <td>244</td>\n",
       "      <td>51</td>\n",
       "      <td>2</td>\n",
       "      <td>1997-11-27 05:02:03</td>\n",
       "    </tr>\n",
       "    <tr>\n",
       "      <th>4</th>\n",
       "      <td>166</td>\n",
       "      <td>346</td>\n",
       "      <td>1</td>\n",
       "      <td>1998-02-02 05:33:16</td>\n",
       "    </tr>\n",
       "  </tbody>\n",
       "</table>\n",
       "</div>"
      ],
      "text/plain": [
       "   User_id  Item_id  Rating           timestamp\n",
       "0      196      242       3 1997-12-04 15:55:49\n",
       "1      186      302       3 1998-04-04 19:22:22\n",
       "2       22      377       1 1997-11-07 07:18:36\n",
       "3      244       51       2 1997-11-27 05:02:03\n",
       "4      166      346       1 1998-02-02 05:33:16"
      ]
     },
     "execution_count": 4,
     "metadata": {},
     "output_type": "execute_result"
    }
   ],
   "source": [
    "# Load data to dataframe\n",
    "with open(\"ratings.data\", \"r\") as f:\n",
    "    rating_data = [i.replace(\"\\n\", \"\").split(\"\\t\") for i in f.readlines()]\n",
    "rating_data = pd.DataFrame(np.array(rating_data), columns=[\"User_id\", \"Item_id\", \"Rating\", \"timestamp\"]).astype(\"int\")\n",
    "\n",
    "# transform timestamp into datetime\n",
    "rating_data[\"timestamp\"] = [datetime.utcfromtimestamp(i) for i in rating_data[\"timestamp\"]]\n",
    "rating_data.head()"
   ]
  },
  {
   "cell_type": "code",
   "execution_count": 5,
   "metadata": {},
   "outputs": [],
   "source": [
    "# split data\n",
    "traindata, testdata = train_test_split(rating_data, test_size=0.2, random_state=12345)"
   ]
  },
  {
   "cell_type": "code",
   "execution_count": 7,
   "metadata": {},
   "outputs": [],
   "source": [
    "# transform train data into user-item matrix\n",
    "user_item_matrix_data = create_user_item_matrix(traindata)"
   ]
  },
  {
   "cell_type": "code",
   "execution_count": 7,
   "metadata": {},
   "outputs": [
    {
     "name": "stderr",
     "output_type": "stream",
     "text": [
      "100%|██████████| 889249/889249 [05:15<00:00, 2819.02it/s]\n"
     ]
    }
   ],
   "source": [
    "# User-based Collaborative Filtering\n",
    "user_cf = User_based_CF(traindata, user_item_matrix_data)\n",
    "user_user_correlation_data = user_cf.compute_correlation(corr_methods=\"pearson\")\n",
    "\n",
    "# 針對test data做預測以及模型評估（注意，每次計算是針對一筆資料）\n",
    "pred_user_data = list(map(lambda x: user_cf.predict_without_time(testdata.iloc[x, 0], testdata.iloc[x, 1], num_user=10), tqdm([i for i in range(testdata.shape[0])])))\n",
    "pred_user_data = [i if i > 0 else 0 for i in pred_user_data]"
   ]
  },
  {
   "cell_type": "code",
   "execution_count": null,
   "metadata": {},
   "outputs": [],
   "source": []
  },
  {
   "cell_type": "code",
   "execution_count": 8,
   "metadata": {},
   "outputs": [
    {
     "name": "stderr",
     "output_type": "stream",
     "text": [
      "100%|██████████| 2829124/2829124 [05:13<00:00, 9027.61it/s]\n"
     ]
    }
   ],
   "source": [
    "# Item-based Collaborative Filtering\n",
    "item_cf = Item_based_CF(traindata, user_item_matrix_data)\n",
    "item_item_correlation_data = item_cf.compute_correlation(corr_methods=\"pearson\")\n",
    "\n",
    "# 針對test data做預測以及模型評估（注意，每次計算是針對一筆資料）\n",
    "pred_item_data = list(map(lambda x: item_cf.predict_without_time(testdata.iloc[x, 1], testdata.iloc[x, 0], num_item=10), tqdm([i for i in range(testdata.shape[0])])))\n",
    "pred_item_data = [i if i > 0 else 0 for i in pred_item_data]"
   ]
  },
  {
   "cell_type": "code",
   "execution_count": 12,
   "metadata": {},
   "outputs": [],
   "source": []
  },
  {
   "cell_type": "code",
   "execution_count": 22,
   "metadata": {},
   "outputs": [],
   "source": [
    "# Matrix Factorization\n",
    "\n",
    "# 1. 建立模型\n",
    "class matrix_factorization(nn.Module):\n",
    "    def __init__(self, num_user_id, num_item_id, num_features):\n",
    "        super(matrix_factorization, self).__init__()\n",
    "        self.num_user_id = num_user_id\n",
    "        self.num_item_id = num_item_id\n",
    "        self.num_features = num_features\n",
    "        self.p_matrix = torch.randn(size=(num_user_id, num_features))\n",
    "        self.q_matrix = nn.Linear(num_features, num_item_id)\n",
    "        return\n",
    "\n",
    "    def forward(self):\n",
    "        X = self.q_matrix(self.p_matrix)\n",
    "        return X"
   ]
  },
  {
   "cell_type": "code",
   "execution_count": null,
   "metadata": {},
   "outputs": [],
   "source": [
    "# 2. 建立Loss function\n",
    "class mf_loss_function(nn.Module):\n",
    "    def __init__(self):\n",
    "        super(mf_loss_function).__init__()\n",
    "        return\n",
    "\n",
    "    def forward(self):\n",
    "        return"
   ]
  },
  {
   "cell_type": "code",
   "execution_count": 23,
   "metadata": {},
   "outputs": [],
   "source": [
    "mf_model = matrix_factorization(num_user_id = 983, num_item_id = 1682, num_features=5)"
   ]
  },
  {
   "cell_type": "code",
   "execution_count": 24,
   "metadata": {},
   "outputs": [],
   "source": [
    "X = mf_model.forward()"
   ]
  },
  {
   "cell_type": "code",
   "execution_count": 26,
   "metadata": {},
   "outputs": [
    {
     "data": {
      "text/plain": [
       "tensor([[-0.3092,  0.1653, -0.0395,  ...,  0.0210, -0.4245, -0.3916],\n",
       "        [-1.6193,  0.5300, -0.9046,  ..., -0.7070, -1.1013,  1.1863],\n",
       "        [-1.4282,  0.9486,  0.3203,  ..., -0.6128, -0.5700,  0.6090],\n",
       "        ...,\n",
       "        [-0.9301, -1.2219, -0.6867,  ..., -0.9112,  0.1688, -0.2855],\n",
       "        [ 1.1720, -0.3517, -0.7473,  ...,  0.7841, -0.6798, -0.8881],\n",
       "        [-1.0077,  0.5090, -1.8312,  ..., -0.9504, -1.7188,  0.7250]],\n",
       "       grad_fn=<AddmmBackward>)"
      ]
     },
     "execution_count": 26,
     "metadata": {},
     "output_type": "execute_result"
    }
   ],
   "source": [
    "X"
   ]
  },
  {
   "cell_type": "code",
   "execution_count": null,
   "metadata": {},
   "outputs": [],
   "source": []
  }
 ],
 "metadata": {
  "interpreter": {
   "hash": "f5cf5fa73e76fbdd1036fecfade4ba56213682791ca6f80f15a6630a2bc06098"
  },
  "kernelspec": {
   "display_name": "Python 3.7.5 64-bit",
   "name": "python3"
  },
  "language_info": {
   "codemirror_mode": {
    "name": "ipython",
    "version": 3
   },
   "file_extension": ".py",
   "mimetype": "text/x-python",
   "name": "python",
   "nbconvert_exporter": "python",
   "pygments_lexer": "ipython3",
   "version": "3.7.5"
  },
  "orig_nbformat": 4
 },
 "nbformat": 4,
 "nbformat_minor": 2
}
